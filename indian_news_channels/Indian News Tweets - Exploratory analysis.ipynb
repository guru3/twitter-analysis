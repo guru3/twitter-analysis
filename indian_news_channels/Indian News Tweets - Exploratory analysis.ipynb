{
 "cells": [
  {
   "cell_type": "code",
   "execution_count": 1,
   "metadata": {},
   "outputs": [
    {
     "data": {
      "text/html": [
       "<style>.container { width:100% !important; }</style>"
      ],
      "text/plain": [
       "<IPython.core.display.HTML object>"
      ]
     },
     "metadata": {},
     "output_type": "display_data"
    }
   ],
   "source": [
    "import csv\n",
    "import os\n",
    "import numpy as np\n",
    "import pickle\n",
    "import seaborn as sns\n",
    "import datetime as d\n",
    "import pandas as pd\n",
    "from sklearn.feature_extraction.text import TfidfVectorizer\n",
    "from sklearn.feature_extraction.stop_words import ENGLISH_STOP_WORDS\n",
    "from sklearn.manifold import TSNE\n",
    "import matplotlib.pyplot as plt\n",
    "%matplotlib inline\n",
    "from IPython.core.display import display, HTML\n",
    "display(HTML(\"<style>.container { width:100% !important; }</style>\"))"
   ]
  },
  {
   "cell_type": "code",
   "execution_count": 2,
   "metadata": {},
   "outputs": [],
   "source": [
    "NEWS_CHANNELS = ['IndianExpress','TimesNow','thewire_in','the_hindu','ThePrintIndia','timesofindia']\n",
    "RELATIVE_PATH = './tweet_data/'"
   ]
  },
  {
   "cell_type": "code",
   "execution_count": 3,
   "metadata": {},
   "outputs": [],
   "source": [
    "from vaderSentiment.vaderSentiment import SentimentIntensityAnalyzer \n",
    "sentimentAnalyzer = SentimentIntensityAnalyzer()"
   ]
  },
  {
   "cell_type": "markdown",
   "metadata": {},
   "source": [
    "#### Looking at examples manually, I saw some examples related to corona virus where we see incorrect sentiment analysis. For example 'new record' for corona cases is being seen as positive sentiment. This and reason that most of the news around early 2020 months would be related to corona itself. Thus we only pick news tweets for year 2019."
   ]
  },
  {
   "cell_type": "code",
   "execution_count": 4,
   "metadata": {},
   "outputs": [
    {
     "name": "stdout",
     "output_type": "stream",
     "text": [
      "as of now  west bengal has reported  covid  cases  including  deaths -> score is 0.0\n",
      "coronavirus numbers explained  daily increase touch a new record for the fourth time in one week -> score is 0.3182\n"
     ]
    }
   ],
   "source": [
    "example1 = \"as of now  west bengal has reported  covid  cases  including  deaths\"\n",
    "example2 = \"coronavirus numbers explained  daily increase touch a new record for the fourth time in one week\"\n",
    "score1 = sentimentAnalyzer.polarity_scores(example1)\n",
    "score2 = sentimentAnalyzer.polarity_scores(example2)\n",
    "print(example1, '-> score is', score1['compound'])\n",
    "print(example2, '-> score is', score2['compound'])"
   ]
  },
  {
   "cell_type": "code",
   "execution_count": 5,
   "metadata": {},
   "outputs": [],
   "source": [
    "def epochToTime( epoch ):\n",
    "    t = int( epoch )\n",
    "    return d.datetime.fromtimestamp(t);\n",
    "\n",
    "def getTweetsOfNewsChannels():\n",
    "    tweets_data = {}\n",
    "    for channel in NEWS_CHANNELS:\n",
    "        data = []\n",
    "        data_file = open( os.path.join(RELATIVE_PATH, channel + '_tweets.csv'), 'r')\n",
    "        reader = csv.reader(data_file);\n",
    "        next(reader)\n",
    "        for row in reader:\n",
    "            time = epochToTime(row[1])\n",
    "            if time.year != 2019: # we only take for year 2019\n",
    "                continue;\n",
    "            data_row = {'id':row[0], 'time':time, 'tweet':row[2], 'mentions':row[3], 'replies_count':row[4],\n",
    "                        'retweets_count':row[5], 'likes_count':row[6], 'hashtags':row[7] }\n",
    "            data.append(data_row)\n",
    "        tweets_data[ channel ] = data\n",
    "    return tweets_data;"
   ]
  },
  {
   "cell_type": "code",
   "execution_count": 6,
   "metadata": {},
   "outputs": [],
   "source": [
    "tweets_channel_mapping = getTweetsOfNewsChannels()"
   ]
  },
  {
   "cell_type": "code",
   "execution_count": 7,
   "metadata": {},
   "outputs": [],
   "source": [
    "channels_unique_tweets = {}\n",
    "for channel in NEWS_CHANNELS:\n",
    "    unique_tweets= {}\n",
    "    for tweet in tweets_channel_mapping[channel]:\n",
    "        unique_tweets[tweet['tweet']] = 1\n",
    "    channels_unique_tweets[ channel ] = list(unique_tweets.keys())"
   ]
  },
  {
   "cell_type": "code",
   "execution_count": 8,
   "metadata": {},
   "outputs": [
    {
     "name": "stdout",
     "output_type": "stream",
     "text": [
      "IndianExpress has 62363 total tweets and 60766 unique tweets\n",
      "TimesNow has 108985 total tweets and 96037 unique tweets\n",
      "thewire_in has 19543 total tweets and 19195 unique tweets\n",
      "the_hindu has 32630 total tweets and 31414 unique tweets\n",
      "ThePrintIndia has 28649 total tweets and 27464 unique tweets\n",
      "timesofindia has 80758 total tweets and 75987 unique tweets\n"
     ]
    },
    {
     "data": {
      "image/png": "[encoded data removed]",
      "text/plain": [
       "<Figure size 432x288 with 1 Axes>"
      ]
     },
     "metadata": {
      "needs_background": "light"
     },
     "output_type": "display_data"
    }
   ],
   "source": [
    "#1. How many tweets per news channel\n",
    "for key in tweets_channel_mapping.keys():\n",
    "    print(key,'has', len(tweets_channel_mapping[key]), 'total tweets and', len(channels_unique_tweets[key]), 'unique tweets')\n",
    "tweet_counts = [ len(v) for v in tweets_channel_mapping.values() ]\n",
    "sns.distplot(tweet_counts, bins=10, kde=False);"
   ]
  },
  {
   "cell_type": "markdown",
   "metadata": {},
   "source": [
    "##### We see large differences in number of tweets different news sources...which makes analysis limited. Let's start with sentiment analysis..."
   ]
  },
  {
   "cell_type": "code",
   "execution_count": 9,
   "metadata": {},
   "outputs": [],
   "source": [
    "def sentiment_analysis( sentiment_threshold ):\n",
    "    for channel in channels_unique_tweets.keys():\n",
    "        neg = 0\n",
    "        pos = 0\n",
    "        neu = 0\n",
    "        for tweet in channels_unique_tweets[channel]:\n",
    "            sentiment_a = sentimentAnalyzer.polarity_scores(tweet)['compound']\n",
    "            if sentiment_a < -sentiment_threshold:\n",
    "                neg = neg + 1\n",
    "            elif sentiment_a > sentiment_threshold:\n",
    "                pos = pos + 1\n",
    "            else:\n",
    "                neu = neu + 1\n",
    "        total = len(channels_unique_tweets[channel])\n",
    "        print( '%s -> negative(%3.2f%%), positive(%3.2f%%), neutral(%3.2f%%)' % (channel, neg*100/total, pos*100/total, neu*100/total))"
   ]
  },
  {
   "cell_type": "code",
   "execution_count": 10,
   "metadata": {},
   "outputs": [
    {
     "name": "stdout",
     "output_type": "stream",
     "text": [
      "Setting threshold as 0.05\n",
      "IndianExpress -> negative(36.99%), positive(30.53%), neutral(32.48%)\n",
      "TimesNow -> negative(35.39%), positive(35.06%), neutral(29.54%)\n",
      "thewire_in -> negative(45.08%), positive(37.56%), neutral(17.36%)\n",
      "the_hindu -> negative(35.34%), positive(37.28%), neutral(27.38%)\n",
      "ThePrintIndia -> negative(35.91%), positive(37.28%), neutral(26.81%)\n",
      "timesofindia -> negative(31.47%), positive(33.62%), neutral(34.91%)\n"
     ]
    }
   ],
   "source": [
    "print('Setting threshold as 0.05')\n",
    "sentiment_analysis( 0.05 )"
   ]
  },
  {
   "cell_type": "code",
   "execution_count": 11,
   "metadata": {},
   "outputs": [
    {
     "name": "stdout",
     "output_type": "stream",
     "text": [
      "Setting threshold as 0.85\n",
      "IndianExpress -> negative(2.21%), positive(0.87%), neutral(96.92%)\n",
      "TimesNow -> negative(2.55%), positive(0.95%), neutral(96.50%)\n",
      "thewire_in -> negative(5.64%), positive(1.96%), neutral(92.40%)\n",
      "the_hindu -> negative(2.94%), positive(1.38%), neutral(95.68%)\n",
      "ThePrintIndia -> negative(1.48%), positive(0.69%), neutral(97.83%)\n",
      "timesofindia -> negative(1.79%), positive(1.07%), neutral(97.14%)\n"
     ]
    }
   ],
   "source": [
    "print('Setting threshold as 0.85')\n",
    "sentiment_analysis( 0.85 )"
   ]
  },
  {
   "cell_type": "markdown",
   "metadata": {},
   "source": [
    "##### We see that for smaller threshold, sentiment analysis shows almost equal division between positive, negative and neutral sentiment. If we increase the threshold very high to 0.85, we see a contrast in positive and negative news, with negative news being consistently more than the positive news!\n",
    "##### Let's see now what are most used hashtags and mentions"
   ]
  },
  {
   "cell_type": "code",
   "execution_count": 12,
   "metadata": {},
   "outputs": [],
   "source": [
    "def most_used( lmbd ):\n",
    "    for channel in NEWS_CHANNELS:\n",
    "        mapping = {}\n",
    "        for x in tweets_channel_mapping[channel]:\n",
    "            for ht in lmbd(x):\n",
    "                if ht == '':\n",
    "                    continue\n",
    "                if ht in mapping.keys():\n",
    "                    mapping[ht] = mapping[ht] + 1\n",
    "                else:\n",
    "                    mapping[ht] = 1\n",
    "        z = [ [mapping[x],x] for x in mapping.keys() ]\n",
    "        z.sort(reverse=True)\n",
    "        print( channel, [ x[1] for x in z[0:10] ] )"
   ]
  },
  {
   "cell_type": "code",
   "execution_count": 13,
   "metadata": {},
   "outputs": [
    {
     "name": "stdout",
     "output_type": "stream",
     "text": [
      "Most used mentions ->\n",
      "IndianExpress ['ieexplained', 'ieparenting', 'unnycartoonist', 'piyushgoyal', 'narendramodi', 'nishantshekhar1', 'rahulgandhi', 'toramatix', 'tavleen_singh', 'vishkvarma']\n",
      "TimesNow ['thenewshour', 'navikakumar', 'rshivshankar', 'narendramodi', 'padmajajoshi', 'incindia', 'bjp4india', 'amitshah', 'rahulgandhi', 'shivsena']\n",
      "thewire_in ['narendramodi', 'bjp4india', 'gaurav5173', 'khanumarfa', 'svaradarajan', 'kabira_tweeting', 'ajoyashirwad', 'sukanyashantha', 'amitshah', 'bombaywallah']\n",
      "the_hindu ['narendramodi', 'vijaita', 'kdrajagopal', 'langamahesh', 'rahulgandhi', 'deveshpd', 'suhasinih', 'nistula', 'omar7rashid', 'fewcan']\n",
      "ThePrintIndia ['shekhargupta', 'npday', 'sneheshphilip', 'ruhitewari', 'nayanimabasu', 'dhingrasanya', 'dillidurast', 'deekbhardwaj', 'rohini_swamy', 'remyanair4']\n",
      "timesofindia ['etimes', 'narendramodi', 'gadgetsnow', 'misskyra12', 'toiworld', 'toibusiness', 'toicitiesnews', 'amitshah', 'toidelhi', 'rahulgandhi']\n"
     ]
    }
   ],
   "source": [
    "print('Most used mentions ->')\n",
    "most_used( lambda x : x['mentions'].split('@') )"
   ]
  },
  {
   "cell_type": "markdown",
   "metadata": {},
   "source": [
    "##### We observe that different news channels have different mentions...though almost all of them have mentions of political figures! This can be attributed to the indian election of 2019"
   ]
  },
  {
   "cell_type": "code",
   "execution_count": 14,
   "metadata": {},
   "outputs": [
    {
     "name": "stdout",
     "output_type": "stream",
     "text": [
      "Most used hashtags ->\n",
      "IndianExpress ['ieworld', 'expressfrontpage', 'expressopinion', 'loksabhaelections2019', 'decision2019', 'expressbiz', 'expressexplained', 'expresseditorial', 'thread', 'sundayeye']\n",
      "TimesNow ['breaking', 'may23withtimesnow', 'exclusive', 'live', 'oct24withtimesnow', 'modiphirse', 'budgetfornewindia', 'timesnowexitpoll', 'atharkhan', 'moditrumpdosti']\n",
      "thewire_in ['sadaksesansad', 'replug', 'pollwatch', 'thewiredialogues', 'electionresults2019', 'budget2019', 'pollvault', 'balakot', 'balakotairstrike', 'indiaagainstcaa']\n",
      "the_hindu ['jammuandkashmir', 'bjp', 'loksabhaelections2019', 'congress', 'pakistan', 'kashmir', 'narendramodi', 'article370', 'live', 'supremecourt']\n",
      "ThePrintIndia ['theprintopinion', 'talkpoint', 'cuttheclutter', 'lastlaughs', 'theprintexclusive', 'pluggedin', 'nationalinterest', 'bjptracker', 'theprintlive', 'globalpulse']\n",
      "timesofindia ['loksabhaelections2019', 'electionswithtimes', 'justin', 'wc2019withtimes', 'cwc19', 'iccworldcup2019', 'verdictwithtimes', 'ipl2019', 'electionresults2019', 'breaking']\n"
     ]
    }
   ],
   "source": [
    "print('Most used hashtags ->')\n",
    "most_used( lambda x : x['hashtags'].split('#') )"
   ]
  },
  {
   "cell_type": "markdown",
   "metadata": {},
   "source": [
    "##### The hashtags mostly correspond to the indian election 2019 and the cricket tournaments\n",
    "#### It's interesting to see 'indiaagainstcaa' in  thewire_in's top used hashtags"
   ]
  },
  {
   "cell_type": "code",
   "execution_count": 15,
   "metadata": {},
   "outputs": [
    {
     "name": "stdout",
     "output_type": "stream",
     "text": [
      "Most used words ->\n",
      "IndianExpress ['said', 'year', 'india', 'bjp', 'delhi', 'police', 'live', 'minister', 'government', 'ieworld']\n",
      "TimesNow ['time', 'india', 'tell', 'report', 'bjp', 'thenewshour', 'breaking', 'congress', 'minister', 'listen']\n",
      "thewire_in ['india', 'said', 'government', 'year', 'people', 'state', 'writes', 'court', 'party', 'indian']\n",
      "the_hindu ['said', 'minister', 'india', 'year', 'government', 'say', 'day', 'state', 'just', 'congress']\n",
      "ThePrintIndia ['report', 'theprints', 'writes', 'india', 'modi', 'theprintopinion', 'editor', 'say', 'bjp', 'congress']\n",
      "timesofindia ['read', 'india', 'ani', 'live', 'say', 'congress', 'loksabhaelections', 'update', 'etimes', 'electionswithtimes']\n"
     ]
    }
   ],
   "source": [
    "print('Most used words ->')\n",
    "most_used( lambda x : [ l for l in x['tweet'].split(' ') if l not in ENGLISH_STOP_WORDS] )"
   ]
  },
  {
   "cell_type": "code",
   "execution_count": 16,
   "metadata": {},
   "outputs": [],
   "source": [
    "def percentage_words_used( word_list ):\n",
    "    count_mapping = {}\n",
    "    total_mapping = {}\n",
    "    for channel in NEWS_CHANNELS:\n",
    "        count_mapping[channel] = 0\n",
    "        total_mapping[channel] = len(tweets_channel_mapping[channel])\n",
    "        for t in tweets_channel_mapping[channel]:\n",
    "            for word in t['tweet'].split():\n",
    "                if word in word_list:\n",
    "                    count_mapping[channel] = count_mapping[channel] + 1\n",
    "    return ', '.join( [ '%s -> %3.2f%%' % (channel, count_mapping[channel]*100/total_mapping[channel]) for channel in NEWS_CHANNELS ] )"
   ]
  },
  {
   "cell_type": "code",
   "execution_count": 24,
   "metadata": {},
   "outputs": [],
   "source": [
    "religious_words = ['hindu', 'muslim', 'sikh' ,'christian', 'buddhist', 'religion']\n",
    "india = ['india', 'indian', 'hindustan', 'hindustani']\n",
    "pakistan = ['paki', 'pakistan', 'pakistani']\n",
    "international = ['usa','america','trump','oil','england','london','canada','china', 'russia','putin','world']\n",
    "crimes = ['hate','kill','kidnap','die','murder','suicide','rape','death','criminal','killed','lynch','terrorist','attack', 'crime']\n",
    "pmoindia = ['modi','modiji','primeminister','pmoindia']\n",
    "bjp = ['bjp', 'modi','modiji','amitshah','amit','yogi','yogiadityanath']\n",
    "congress = ['congress','rahulgandhi','soniagandhi','manmohan','sonia','rahul']\n",
    "development = ['technology','science','development', 'develop','water','electricity', 'roads', 'highways', 'clean','fresh', 'strong']\n",
    "election = ['election','elections','loksabhaelections']\n",
    "politiciansNicknames = ['pappu','didi','mufflerman','chaiwala','behenji']\n",
    "politics = list(set(bjp + congress + election + politiciansNicknames + ['kejriwal', 'arvindkejriwal']))\n",
    "cricket = ['cricket','kohli','dhoni','ipl']"
   ]
  },
  {
   "cell_type": "code",
   "execution_count": 25,
   "metadata": {},
   "outputs": [
    {
     "name": "stdout",
     "output_type": "stream",
     "text": [
      "India:\n",
      " IndianExpress -> 8.51%, TimesNow -> 20.20%, thewire_in -> 19.28%, the_hindu -> 12.71%, ThePrintIndia -> 22.25%, timesofindia -> 11.99%\n",
      "Pakistan:\n",
      " IndianExpress -> 2.51%, TimesNow -> 4.46%, thewire_in -> 3.46%, the_hindu -> 3.78%, ThePrintIndia -> 6.89%, timesofindia -> 3.50%\n",
      "International:\n",
      " IndianExpress -> 5.29%, TimesNow -> 6.94%, thewire_in -> 4.73%, the_hindu -> 6.90%, ThePrintIndia -> 7.69%, timesofindia -> 5.94%\n",
      "Religion:\n",
      " IndianExpress -> 1.65%, TimesNow -> 3.76%, thewire_in -> 6.99%, the_hindu -> 3.01%, ThePrintIndia -> 3.48%, timesofindia -> 1.48%\n",
      "Crimes:\n",
      " IndianExpress -> 7.35%, TimesNow -> 6.99%, thewire_in -> 10.76%, the_hindu -> 7.68%, ThePrintIndia -> 6.20%, timesofindia -> 6.78%\n",
      "PMO India:\n",
      " IndianExpress -> 4.35%, TimesNow -> 4.41%, thewire_in -> 4.16%, the_hindu -> 3.44%, ThePrintIndia -> 13.77%, timesofindia -> 3.95%\n",
      "BJP:\n",
      " IndianExpress -> 11.13%, TimesNow -> 17.11%, thewire_in -> 11.33%, the_hindu -> 9.07%, ThePrintIndia -> 24.02%, timesofindia -> 10.50%\n",
      "Congress:\n",
      " IndianExpress -> 6.82%, TimesNow -> 18.08%, thewire_in -> 4.99%, the_hindu -> 7.03%, ThePrintIndia -> 11.89%, timesofindia -> 8.01%\n",
      "Development:\n",
      " IndianExpress -> 3.27%, TimesNow -> 2.51%, thewire_in -> 5.49%, the_hindu -> 4.53%, ThePrintIndia -> 3.82%, timesofindia -> 2.48%\n",
      "Elections:\n",
      " IndianExpress -> 5.90%, TimesNow -> 6.79%, thewire_in -> 5.41%, the_hindu -> 5.01%, ThePrintIndia -> 4.08%, timesofindia -> 7.45%\n",
      "Politics:\n",
      " IndianExpress -> 24.44%, TimesNow -> 42.46%, thewire_in -> 21.97%, the_hindu -> 21.41%, ThePrintIndia -> 40.64%, timesofindia -> 26.34%\n",
      "Cricket:\n",
      " IndianExpress -> 0.27%, TimesNow -> 0.53%, thewire_in -> 0.26%, the_hindu -> 0.72%, ThePrintIndia -> 0.68%, timesofindia -> 2.43%\n",
      "Politicians Nicknames:\n",
      " IndianExpress -> 0.04%, TimesNow -> 0.10%, thewire_in -> 0.04%, the_hindu -> 0.02%, ThePrintIndia -> 0.07%, timesofindia -> 0.08%\n"
     ]
    }
   ],
   "source": [
    "print('India:\\n', percentage_words_used(india))\n",
    "print('Pakistan:\\n', percentage_words_used(pakistan))\n",
    "print('International:\\n', percentage_words_used(international))\n",
    "print('Religion:\\n', percentage_words_used(religious_words))\n",
    "print('Crimes:\\n',percentage_words_used(crimes))\n",
    "print('PMO India:\\n',percentage_words_used(pmoindia))\n",
    "print('BJP:\\n',percentage_words_used(bjp))\n",
    "print('Congress:\\n',percentage_words_used(congress))\n",
    "print('Development:\\n',percentage_words_used(development))\n",
    "print('Elections:\\n',percentage_words_used(election))\n",
    "print('Politics:\\n',percentage_words_used(politics))\n",
    "print('Cricket:\\n',percentage_words_used(cricket))\n",
    "print('Politicians Nicknames:\\n',percentage_words_used(politiciansNicknames))"
   ]
  },
  {
   "cell_type": "markdown",
   "metadata": {},
   "source": [
    "#### Major differences are seen in mention of word 'India' : TimesNow and thewire_in have about 1/5 of their tweets with mention of the country. It's interesting to see tweets mentioning pakistan being almost equal to ( if not more than ) tweets mentioning other international terms. Religion mentiosn are relatively higher in thewire_in tweets. Crimes make less than 1/10 of the news. Development makes even lesser. Mention of congress and bjp is significantly high, this can be attributed to the elections of 2019. 50% of tweets of timesNow are related to politics in someway! Similarly for ThePrintIndia, but that is particularly focused on politics anyways.\n",
    "#### Let's ponder upon why TimesNow has abruptly high tweets. Let's look at day's tweets"
   ]
  },
  {
   "cell_type": "code",
   "execution_count": 21,
   "metadata": {},
   "outputs": [
    {
     "name": "stdout",
     "output_type": "stream",
     "text": [
      "bangladesh cricketer soumya sarkar retypes shikhar dhawans post yuvraj singh tribute veteran indian cricketer\n",
      "report india start favourite pakistan mother battle\n",
      "report representative tech sector industry body like nasscom iamai mait met mo finance anurag thakur discus various issue including tax structure share view strengthening digital economy\n",
      "india pakistan fared history indiavspakistan\n",
      "punjab chief minister captain amarinder singh decides send member delegation meghalaya resolve issue concerning safety punjabi settler northeastern state\n",
      "west bengal chief minister mamata banerjee say government committed stabilising situation state earliest didivsdoctors\n",
      "ministry home affair constitutes terror monitoring group aimed swift action registered case relating terror terror financing\n",
      "powerplay blockbuster edition border special broadcast just manchester faceoff punch time join preetiddahiya powerplay blockbuster edition tonight indiavspakistan\n",
      "report union health minister harsh vardhan visit muzzafarpur district bihar child died outbreak acute encephalitis syndrome aes\n",
      "didi making outsider local shaziailmi spokesperson bjp didivsdoctors\n",
      "understand incident occurred sayatan banerjee senior resident infectious disease aiims didivsdoctors\n",
      "powerplay blockbuster edition border special broadcast just manchester faceoff punch time join preetiddahiya conversation ovaismangalwala powerplay blockbuster edition tonight indiavspakistan\n",
      "let try resolve issue prof monojit mondal political analyst didivsdoctors\n",
      "doctor issue ultimatum mamata relents grudgingly accepts demand save face shuns accountability outsider blamed didi refuse mistake detail madhavgk didivsdoctors\n",
      "doctor issue ultimatum mamata relents grudgingly accepts demand save face shuns accountability outsider blamed didi refuse mistake join madhavgk thenewshour special edition time didivsdoctors\n",
      "confession confront pakistan shabnamlone lawyer hurriyatterrorconfession\n",
      "kashmir unique conflict zone world rail estate price comparable world lalitambardar activist hurriyatterrorconfession\n",
      "stand peace progress kashmir shaziailmi spokesperson bjp hurriyatterrorconfession\n",
      "sensational admission hurriyat pak hitman face separatism kashmir squeal pak link custody andrabi alam nail hurriyat got pak fund create unrest stakeholder omar mufti detail madhavgk hurriyatterrorconfession\n",
      "doctor issue ultimatum mamata relents grudgingly accepts demand save face shuns accountability outsider blamed didi refuse mistake join madhavgk thenewshour special edition time didivsdoctors\n",
      "powerplay blockbuster edition border special broadcast just manchester faceoff punch time join preetiddahiya conversation ovaismangalwala powerplay blockbuster edition tonight indiavspakistan\n",
      "powerplay blockbuster edition border special broadcast just manchester faceoff punch time join preetiddahiya conversation ovaismangalwala powerplay blockbuster edition tonight indiavspakistan\n",
      "budgetfornewindia growth job relation absolute chetanbhagat author conversation rshivshankar\n",
      "squeal pak link custody andrabi alam nail hurriyat got pak fund create unrest bleed india pak reward stakeholder omar mufti join madhavgk thenewshour special edition tonight time hurriyatterrorconfession\n",
      "sensational admission hurriyat pak hitman biggest terror confession face separatism kashmir hurriyatterrorconfession join madhavgk thenewshour special edition tonight time\n",
      "budgetfornewindia service sector growing close tvmohandaspai chairman manipal global education conversation rshivshankar\n",
      "budgetfornewindia reality know india productivity growing fast boseprasenjit economist conversation rshivshankar\n",
      "budgetfornewindia think job data real unemployment situation grave nagaraj economist professor indira gandhi institute development research conversation rshivshankar\n",
      "budgetfornewindia according job data india population declined pnvijay leader bjp economist conversation rshivshankar\n",
      "budgetfornewindia need urgent measure address nation job crisis sabinadewan president executive director justjobs network tell rshivshankar\n",
      "squeal pak link custody andrabi alam nail hurriyat got pak fund create unrest bleed india pak reward stakeholder omar mufti join madhavgk thenewshour special edition tonight time hurriyatterrorconfession\n",
      "sensational admission hurriyat pak hitman biggest terror confession face separatism kashmir hurriyatterrorconfession join madhavgk thenewshour special edition tonight time\n",
      "powerplay blockbuster edition border special broadcast just manchester faceoff punch time join preetiddahiya conversation ovaismangalwala powerplay blockbuster edition tonight indiavspakistan\n",
      "report prime minister narendra modi saturday called collective fight poverty unemployment corruption violence urgent step tackle drought drinking water crisis country\n",
      "modi budget target trillion modi back ease living focus job growth silver bullet budget join rshivshankar india upfront budget debate budgetfornewindia\n",
      "report ayush ministry process identifying health wellness centre country deliver traditional medicinal service grass root level\n",
      "modi back ease living budget modi target set trillion join rshivshankar india upfront budget debate budgetfornewindia\n",
      "union budget set presented july ahead budget presentation lok sabha learn budget terminology\n",
      "focus job growth budget modi back ease living join rshivshankar india upfront budget debate budgetfornewindia\n",
      "shiromani akali dal leader manjinder singh sirsa launch scathing attack claim jail like sajjan kumar involvement anti sikh riot\n",
      "modi budget target trillion modi back ease living focus job growth silver bullet budget join rshivshankar india upfront budget debate budgetfornewindia\n",
      "india pakistan cricket match big like final final pakistan cricketer inzamam conversation time now karishmasingh ahead indiavspakistan match tomorrow\n",
      "ground report karishmasingh old trafford manchester ahead indiavspakistan match tomorrow cheerforteamindia\n",
      "report anti corruption bureau jammu kashmir unearthed blatant wrongdoing bank tenure chairman ceo parvez ahmed ignominious removal june\n",
      "bangalore time now imran khan report conversation young fan team india indiavspakistan cheer team india\n",
      "listen taking action individual mamataofficial said whilst addressing medium didivsdoctors\n",
      "uttar pradesh deputy chief minister keshav prasad maurya suggests dialogue supreme court fails ensure construction ram mandir root bringing new law\n",
      "hurriyatterrorconfession revealed face separatism kashmir got pakistan fund create unrest kashmir detail nikunjgargn\n",
      "west bengal chief minister mamataofficial said accepts valid demand protesting doctor didivsdoctors detail sreyashidey\n",
      "indian air force chief air chief marshal birender singh dhanoa assured iaf cause recent crash antonov aircraft arunachal pradesh\n",
      "narendramodi laid government vision fifth meeting governing council niti aayog rashtrapati bhavan\n",
      "pakistan foreign minister shah mahmood qureshi put ball india court talk peace country\n",
      "lost delhi metro here\n",
      "day union health minister harsh vardhan said number acute encephalitis syndrome aes case declining death toll increase muzaffarpur\n",
      "imvkohli address press conference ahead indiavspakistan match cheerforteamindia\n",
      "government approved extension phase kochi metro ernakulam junction thripunithura railway station\n",
      "death toll mounted bihar mo home nityanand rai reached muzaffarpur\n",
      "congfreespeechfarce shocker chhattisgarh yesterday citizen arrested imposing sedition charge power cut complaint today journalist arrested publishing story power cut detail govindtimes\n",
      "modi set niti aayogs agenda niti aayog meet detail parv\n",
      "deputy keshav prasad maurya say need arises make separate law ensure construction ram mandir listen detail scribeprashant\n",
      "union health minister harsh vardhan urge chief minister strict action person assault doctor didivsdoctors\n",
      "gujarat independent mla jignesh mevani booked allegedly sharing fake video social medium defaming private school valsad\n",
      "report according kyodo nissan considering having renault executive member nomination audit committee citing source\n",
      "report stock suffered loss pressured weakness tech sector\n",
      "state run oil marketing company slashed retail price petrol diesel straight day\n",
      "soon people use smart card metro rail network country government set unveil new smart card used metro rail network limited number trip\n",
      "taking stock doctor stir west bengal centre seek report west bengal government ongoing strike didivsdoctors\n",
      "report indian air force iaf constant touch family air warrior lost life ill fated crash\n",
      "telugu desam party president chandrababu naidu denied vip access aircraft undergoes frisking vijayawada international airport\n",
      "extension india set impose higher tariff good week\n",
      "report hong kongs government look set press pause extradition provoked unprecedented clash police protester\n",
      "breaking rishab pant called england cover joined indian team replace shikhar dhawan icc world cup indiavspakistan\n",
      "report exactly month devastating blaze shocked france notre dame cathedral host mass today\n",
      "union minister drharshvardhan written letter chief minister state country union territory urging strict action person assault doctor didivsdoctors detail tusharswarup\n",
      "ahead niti aayog meeting prime minister senior congress leader manmohan singh hold discussion chief minister congress ruled state\n",
      "time exclusive union minister drharshvardhan visit muzaffarpur tomorrow review situation prevailing region outbreak acute encephalitis syndrome\n",
      "breaking centre stepped mha issued fresh advisory west bengal govt sought detailed report ongoing doctor strike bengal earliest detail sreyashidey didivsdoctors\n",
      "breaking source mha seek report mamata government unabated political violence bengal mha clearly pointed failure state law order machinery west bengal govt detail nikunjgargn bengalviolence\n",
      "report mamata banerjee mamataofficial chandrashekhar rao capt amarinder singh skip crucial niti aayog meet detail parv\n",
      "indiavspakistan india pak reignite rivalry undefeated imvkohli pak rain play spoilsport rain possibility forecast ground report karishmasingh amsterdam deepduttajourno\n",
      "report external affair minister jaishankar meet president tajikistan emomali rahmon sideline fifth cica summit dushanbe\n",
      "akhilesh yadav meet governor ram naik deteriorating law order situation state asks wake uttar pradesh government\n",
      "breaking big development didivsdoctors mamataofficial likely meet injured intern doctor face doctor mamata govt detail sreyashidey\n",
      "cyclonic storm vayu currently moving away gujarat coast recurve hour according india meteorological departement cyclonevayu\n",
      "report bjp karnataka chief yeddyurappa bjp leader protest jindal south west jsw steel land deal\n",
      "think pakistani player tension play cricketguru tell preetiddahiya powerplay blockbuster edition indiavspakistan\n",
      "player know avail opportunity itsjavedmiandad tell preetiddahiya powerplay blockbuster edition indiavspakistan\n",
      "chief minister state west bengal punjab telangana attend niti aayog meeting\n",
      "powerplay blockbuster edition border special broadcast just manchester faceoff candid talk cricketguru deepdasgupta itsjavedmiandad share preetiddahiya powerplay blockbuster edition indiavspakistan\n",
      "team pakistan certainly unpredictable deepdasgupta tell preetiddahiya powerplay blockbuster edition indiavspakistan\n",
      "indian pakistani team good itsjavedmiandad tell preetiddahiya powerplay blockbuster edition indiavspakistan\n",
      "rivalry field field deepdasgupta tell preetiddahiya powerplay blockbuster edition indiavspakistan\n",
      "pakistan team better wasim akram waqar youniss time cricketguru tell preetiddahiya powerplay blockbuster edition indiavspakistan\n",
      "powerplay blockbuster edition border special broadcast just manchester faceoff punch time share view preetiddahiya powerplay blockbuster edition indiavspakistan\n",
      "powerplay blockbuster edition border special broadcast just manchester faceoff punch time coming soon weekend join preetiddahiya powerplay blockbuster edition time indiavspakistan\n",
      "suit boot attack modi govt nervous modi acknowledged demonetisation hit growth chetanbhagat author tell rshivshankar india upfront budget debate budgetfornewindia\n",
      "political clash denies die west bengal tmc worker killed incident violence state murshidabad district\n",
      "need decrease dependency agriculture pnvijay leader bjp economist tell rshivshankar india upfront budget debate budgetfornewindia\n",
      "incentivise labour surplus industry tvmohandaspai chairman manipal global education tell rshivshankar india upfront budget debate budgetfornewindia\n",
      "employability rate improved sabinadewan president executive director justjobs network tell rshivshankar india upfront budget debate budgetfornewindia\n",
      "growth job relation absolute chetanbhagat author tell rshivshankar india upfront budget debate budgetfornewindia\n",
      "service sector growing close tvmohandaspai chairman manipal global education tell rshivshankar india upfront budget debate budgetfornewindia\n",
      "mamata appeal doctor restore normalcy medico demand apology didivsdoctors\n",
      "economic indicator strong boseprasenjit economist tell rshivshankar india upfront budget debate budgetfornewindia\n",
      "economic growth capital incentive sabinadewan president executive director justjobs network tell rshivshankar india upfront budget debate budgetfornewindia\n",
      "manish sisodia responds metro man call aap government decision revolutionary step empower woman\n",
      "invest sector create job pnvijay leader bjp economist tell rshivshankar india upfront budget debate budgetfornewindia\n",
      "growth rate declined rapidly nagaraj economist professor indira gandhi institute development research tell rshivshankar india upfront budget debate budgetfornewindia\n",
      "capital formation hit demonetisation gst nagaraj economist professor indira gandhi institute development research tell rshivshankar india upfront budget debate budgetfornewindia\n",
      "job created growth india producing good job tvmohandaspai chairman manipal global education tell rshivshankar india upfront budget debate budgetfornewindia\n",
      "year old indian migrant girl dy heat stroke arizona desert\n",
      "unemployment issue year private investment decline concern pnvijay leader bjp economist tell rshivshankar india upfront budget debate budgetfornewindia\n",
      "aspirational india want quality job getting job basically getting better job way solve job crisis growth chetanbhagat author tell rshivshankar india upfront budget debate budgetfornewindia\n",
      "unemployment figure given government need trust statistical department govt boseprasenjit economist tell rshivshankar india upfront budget debate budgetfornewindia\n",
      "flaw unemployment survey methodology college student necessarily job seeker tvmohandaspai chairman manipal global education tell rshivshankar india upfront budget debate budgetfornewindia\n",
      "job data real unemployment situation grave politics just determined economics nagaraj economist professor indira gandhi institute development research tell rshivshankar india upfront budget debate budgetfornewindia\n",
      "caused joblessness share view rshivshankar india upfront budget debate budgetfornewindia\n",
      "data suggests confronting real employment crisis country need measure address job crisis sabinadewan president executive director justjobs network tell rshivshankar india upfront budget debate budgetfornewindia\n",
      "data suggests confronting real employment crisis country need measure address job crisis sabinadewan president executive director justjobs network tell rshivshankar india upfront budget debate budgetfornewindia\n",
      "modi budget target trillion modi back ease living focus job growth silver bullet budget share view rshivshankar india upfront budget debate budgetfornewindia\n",
      "modi budget target trillion modi back ease living focus job growth silver bullet budget share view rshivshankar india upfront budget debate budgetfornewindia\n",
      "modi narendramodi back ease living budget modi target set trillion share view rshivshankar india upfront budget debate budgetfornewindia\n",
      "modi budget target trillion modi back ease living focus job growth silver bullet budget tune time rshivshankar india upfront budget debate budgetfornewindia\n",
      "modi narendramodi back ease living budget modi target set trillion join rshivshankar india upfront budget debate noon budgetfornewindia\n",
      "trillion economy modis budget second term pnvijay tvmohandaspai chetanbhagat boseprasenjit nagaraj sabinadewan share view join rshivshankar india upfront budget debate noon budgetfornewindia\n",
      "doctor pgi chandigarh duty department functional centre doctor showing solidarity bengal doctor wearing black ribbon ground report gurpreet chinna didivsdoctors\n",
      "didivsdoctors resident doctor association aiims indefinite strike june onward mamata govt doe adequate action involved case hour ground report kanganasachdev\n",
      "silver bullet budget focus job growth target trillion join rshivshankar india upfront budget debate noon budgetfornewindia\n",
      "didivsdoctors junior doctor stage protest seeking justice kolkata day strike onus mamata banerjee ground report sreyashidey\n",
      "breaking internal feud cost state punjab amid ongoing rift captamarinder sherryontopp amarinder skip niti aayog meet source capt skip meeting bid avoid meet rahulgandhi detail time now gurpreet chinna\n",
      "trillion economy modis budget second term chetanbhagat tvmohandaspai pnvijay present view join rshivshankar india upfront budget debate noon budgetfornewindia\n",
      "focus job growth budget modi back ease living join rshivshankar india upfront budget debate noon budgetfornewindia\n",
      "breaking pakistan insulted india hero ahead indiavspakistan cwc manchester india counter pakistan distasteful viral video detail aruneels\n",
      "month death wife year old man allegedly lynched minor daughter committed suicide village odishas keonjhar district friday police said\n",
      "check maternity style file bollywood celebs\n",
      "breaking congress verge implosion rahulgandhi adamant stepping taker post venugopal rao antony declined offer detail scribeprashant\n",
      "filed itr know date late filing fee detail\n",
      "eoin morgan said reason england panic despite injury forced jason roy field world cup match west indie friday\n",
      "breaking modi share niti aayog meeting today convene governing council meet mamata refused attend meeting claiming fruitless attend niti aayog financial power support state plan detail scribeprashant\n",
      "iran certainly gulf tanker attack britain jeremy hunt\n",
      "modi narendramodi back ease living budget modi target set trillion join rshivshankar india upfront budget debate noon budgetfornewindia\n",
      "card metro network country\n",
      "breaking aiims issued ultimatum saying action taken hour resort indefinite strike starting june detail kanganasachdev aiims new delhi didivsdoctors\n",
      "manmohan singh missed upcoming budget session parliament nearly year long tenure rajya sabha member ended friday\n",
      "didivsdoctors day doctor protest doctor quit fight escalates doctor demand apology ground report sreyashidey sskm hospital kolkata\n",
      "rbi friday asked bank ensure atm grouted wall pillar floor september end installed high secured premise airport enhance security cash vending machine\n",
      "breaking mamata banerjee mamataofficial make fresh appeal agitating doctor requesting work earliest say attend patient earliest doctor earlier refused meet detail sreyashidey didivsdoctors\n",
      "amazing upcoming infra project kashmir look\n",
      "gmail brings dynamic email feature need know check hotel reservation app\n",
      "breaking major crackdown india nia arrested isi suspect massive raid conducted coimbatore nia registered case people propagating isi ideology social medium listen\n",
      "breaking punjab woman grabbed home thrashed public view congress councillor rakesh chaudharys brother woman admitted nearest hospital detail time now gurpreet chinna\n",
      "best weekend breakfast recipe weight loss diet\n",
      "breaking maharashtra cabinet expansion likely place evening tomorrow come maharashtra devfadnavis met governor sena chief uddhav thackeray yesterday time now kajaliyer give detail meghasprasad\n",
      "report policeman killed friday suspected naxal attack seraikela kharsawan district jharkhand\n",
      "breaking late night maharashtra devfadnavis met shiv sena chief uddhav thackeray discus upcoming assembly poll bjp confirmed post shiv sena detail aruneels tell time now meghasprasad\n",
      "budget modi target trillion chetanbhagat tvmohandaspai pnvijay present view join rshivshankar india upfront budget debate noon budgetfornewindia\n",
      "dididividesindia bjp communalising mamata banerjee politicising issue say sitaram yechury\n",
      "lucknow bench allahabad friday dismissed writ petition jayaprada challenging election azam khan rampur parliamentary constituency recently concluded poll\n",
      "icc world cup rishabh pant saturday arrived manchester cover injured shikhar dhawan ahead india pakistan clash\n",
      "modi narendramodi friday exchanged usual pleasantry prime minister pakistan imran khan leader lounge sco summit bishkek\n",
      "recent finding body mass index bmi fat mass increase risk blood vessel disease increase\n",
      "year old man paraguay recounted rare genetic disorder left insulted grew life changing surgery helped life\n",
      "practice yoga element meditation breathing technique enable calmer demeanour assist process healing yoga exercise help deal sport injury\n",
      "vitamin commonly known clotting vitamin necessary nutrient play vital role bone cognitive heart health\n",
      "excluding special circumstance pregnancy threatens life mother arising rape abortion procedure reimbursable health insurance\n",
      "union budget presented july finance minister nirmala sitharaman nda government budget lok sabha election win sitharamans maiden budget\n",
      "financial stability development council fsdc mechanism place strengthened order holistic view financial sector said uday kotak\n",
      "explosion vessel gulf oman thursday pushed volatile region potentially dangerous inflexion point especially directly blaming iran unprovoked attack opinion\n",
      "report vietnam homegrown carmaker vinfast deliver car june company said friday showcased factory asia fastest growing economy\n",
      "report tata communication friday said data centre arm sold entire stake singapore unit stt gdc undisclosed\n",
      "report secretary state mike pompeo warned washington defend regional interest central command blamed iranian force attack second month strategic shipping lane\n",
      "china friday called dialogue united state accused iran attack tanker gulf oman\n",
      "india forex kitty increased usd billion usd billion week june rbi data showed friday\n",
      "bench said matter jurisdiction allahabad high court look case rampur came high court jurisdiction\n"
     ]
    }
   ],
   "source": [
    "tweets_of_timesNow = tweets_channel_mapping['TimesNow']\n",
    "for tweet in tweets_of_timesNow:\n",
    "    time = tweet['time']\n",
    "    if time.year == 2019 and time.month == 6 and time.day == 15:\n",
    "        print(tweet['tweet'])"
   ]
  },
  {
   "cell_type": "markdown",
   "metadata": {},
   "source": [
    "#### We do see several tweets being repeated ones, and mostly political ones!!!! What's reasoning behind this?"
   ]
  },
  {
   "cell_type": "code",
   "execution_count": null,
   "metadata": {},
   "outputs": [],
   "source": []
  }
 ],
 "metadata": {
  "kernelspec": {
   "display_name": "Python 3",
   "language": "python",
   "name": "python3"
  },
  "language_info": {
   "codemirror_mode": {
    "name": "ipython",
    "version": 3
   },
   "file_extension": ".py",
   "mimetype": "text/x-python",
   "name": "python",
   "nbconvert_exporter": "python",
   "pygments_lexer": "ipython3",
   "version": "3.7.3"
  }
 },
 "nbformat": 4,
 "nbformat_minor": 2
}
