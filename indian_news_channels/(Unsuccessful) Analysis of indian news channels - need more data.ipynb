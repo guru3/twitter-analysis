{
 "cells": [
  {
   "cell_type": "code",
   "execution_count": 20,
   "metadata": {},
   "outputs": [
    {
     "data": {
      "text/html": [
       "<style>.container { width:100% !important; }</style>"
      ],
      "text/plain": [
       "<IPython.core.display.HTML object>"
      ]
     },
     "metadata": {},
     "output_type": "display_data"
    }
   ],
   "source": [
    "import csv\n",
    "import os\n",
    "import seaborn as sns\n",
    "import pandas as pd\n",
    "import numpy as np\n",
    "from sklearn.feature_extraction.text import TfidfVectorizer\n",
    "from sklearn.manifold import TSNE\n",
    "import matplotlib.pyplot as plt\n",
    "%matplotlib inline\n",
    "from IPython.core.display import display, HTML\n",
    "display(HTML(\"<style>.container { width:100% !important; }</style>\"))"
   ]
  },
  {
   "cell_type": "code",
   "execution_count": 11,
   "metadata": {},
   "outputs": [],
   "source": [
    "BASE_PATH = './tweets/'\n",
    "indian_news = ['timesofindia', 'republic', 'thewire_in', 'ndtvfeed', 'ZeeNewsEnglish', 'PTI_News', \n",
    "              # 'ABPNews', 'News18India',  - WE DO NOT PICK THEM BECAUSE THEY HAVE FEWER TWEETS TILL DATE\n",
    "               'TimesNow', 'IndianExpress', 'TOIIndiaNews','ThePrintIndia', \n",
    "               'the_hindu']"
   ]
  },
  {
   "cell_type": "code",
   "execution_count": 12,
   "metadata": {},
   "outputs": [],
   "source": [
    "def getTweetsOfUser( user ):\n",
    "    global BASE_PATH\n",
    "    user_file = os.path.join( BASE_PATH, user + '_tweets.csv' )\n",
    "    try:\n",
    "        csv_reader = csv.reader( open( user_file, 'r' ) )\n",
    "        next(csv_reader, None)  # skip the headers\n",
    "        return( [\n",
    "            {'text':row[2],\n",
    "             'retweet_count':int(row[5]),\n",
    "             'favorite_count':int(row[6]) } for row in csv_reader ] )\n",
    "    except:\n",
    "        return []"
   ]
  },
  {
   "cell_type": "code",
   "execution_count": 14,
   "metadata": {},
   "outputs": [],
   "source": [
    "user_to_tweet = {}\n",
    "for user in indian_news:\n",
    "    user_to_tweet[user] = getTweetsOfUser(user)"
   ]
  },
  {
   "cell_type": "code",
   "execution_count": 15,
   "metadata": {},
   "outputs": [
    {
     "data": {
      "image/png": "[encoded data removed]",
      "text/plain": [
       "<Figure size 432x288 with 1 Axes>"
      ]
     },
     "metadata": {
      "needs_background": "light"
     },
     "output_type": "display_data"
    }
   ],
   "source": [
    "max_tweets_we_have = [ len(tweet) for tweet in user_to_tweet.values() ];\n",
    "sns.distplot(max_tweets_we_have, bins=20, kde=False, rug=True);"
   ]
  },
  {
   "cell_type": "markdown",
   "metadata": {},
   "source": [
    "#### so all have atleast 3000 tweets!"
   ]
  },
  {
   "cell_type": "code",
   "execution_count": 17,
   "metadata": {},
   "outputs": [],
   "source": [
    "all_words = {}\n",
    "for user in indian_news:\n",
    "    for tweet in user_to_tweet[user]:\n",
    "        text = tweet['text']\n",
    "        for word in text.split(' '):\n",
    "            try:\n",
    "                all_words[word] = all_words[word] + 1\n",
    "            except:\n",
    "                all_words[word] = 1"
   ]
  },
  {
   "cell_type": "code",
   "execution_count": 18,
   "metadata": {},
   "outputs": [
    {
     "name": "stdout",
     "output_type": "stream",
     "text": [
      "Total tweets in our dataset are : 37483\n",
      "Total words in our dataset are : 325515\n",
      "Total unique words in our dataset are : 31433\n"
     ]
    }
   ],
   "source": [
    "total_tweets = sum( [len(tweet) for tweet in user_to_tweet.values()] )\n",
    "print('Total tweets in our dataset are : %d' % (total_tweets) )\n",
    "total_words = sum( [ all_words[word] for word in all_words.keys() ] )\n",
    "print('Total words in our dataset are : %d' % (total_words) )\n",
    "total_unique_words = len( all_words.keys() )\n",
    "print('Total unique words in our dataset are : %d' % (total_unique_words))"
   ]
  },
  {
   "cell_type": "code",
   "execution_count": 19,
   "metadata": {},
   "outputs": [],
   "source": [
    "tweets_corpus = [] #we add it in order of users we have in variable indian_news\n",
    "for user in indian_news:\n",
    "    all_user_tweets = [ tweet['text'] for tweet in user_to_tweet[user] ]\n",
    "    tweet_corpus = ' '.join(all_user_tweets)\n",
    "    tweets_corpus.append( tweet_corpus )"
   ]
  },
  {
   "cell_type": "code",
   "execution_count": null,
   "metadata": {},
   "outputs": [],
   "source": []
  },
  {
   "cell_type": "code",
   "execution_count": 61,
   "metadata": {},
   "outputs": [],
   "source": [
    "vectorizer = TfidfVectorizer(min_df=2, max_df=20, ngram_range=(1,2), norm='l2', smooth_idf=True, sublinear_tf=False, use_idf=True)"
   ]
  },
  {
   "cell_type": "code",
   "execution_count": 62,
   "metadata": {},
   "outputs": [],
   "source": [
    "tfidf_results = vectorizer.fit_transform(tweets_corpus)\n",
    "# similarity matrix - how similar two users are! using fact that angle between them is very small\n",
    "# note that vector for each user is normalized already, so we don't need to divide by norm of them to get cosine value\n",
    "X = tfidf_results\n",
    "similarity = (X * X.T).todense()\n",
    "words = vectorizer.get_feature_names()\n",
    "# Before we visualize it, let's quickly do some dirty check to find users closer to each other"
   ]
  },
  {
   "cell_type": "code",
   "execution_count": 63,
   "metadata": {},
   "outputs": [
    {
     "data": {
      "text/plain": [
       "[['PTI_News', 'TOIIndiaNews'], ['TOIIndiaNews', 'ThePrintIndia']]"
      ]
     },
     "execution_count": 63,
     "metadata": {},
     "output_type": "execute_result"
    }
   ],
   "source": [
    "close_users = []\n",
    "limit = 0.8\n",
    "for i in range(similarity.shape[0]):\n",
    "    for j in range(similarity.shape[1]):\n",
    "        if i == j:\n",
    "            continue\n",
    "        if similarity[i,j] > limit:\n",
    "            pair = [ indian_news[i], indian_news[j] ]\n",
    "            pair.sort()\n",
    "            close_users.append('#'.join(pair))\n",
    "close_users = [ x.split('#') for x in set(close_users) ]\n",
    "close_users"
   ]
  },
  {
   "cell_type": "code",
   "execution_count": 64,
   "metadata": {},
   "outputs": [
    {
     "name": "stdout",
     "output_type": "stream",
     "text": [
      "[t-SNE] Computing 10 nearest neighbors...\n",
      "[t-SNE] Indexed 11 samples in 0.000s...\n",
      "[t-SNE] Computed neighbors for 11 samples in 0.000s...\n",
      "[t-SNE] Computed conditional probabilities for sample 11 / 11\n",
      "[t-SNE] Mean sigma: 1125899906842624.000000\n",
      "[t-SNE] KL divergence after 250 iterations with early exaggeration: 92.124039\n",
      "[t-SNE] KL divergence after 1450 iterations: 0.268366\n"
     ]
    }
   ],
   "source": [
    "# Time to visualize\n",
    "tsne = TSNE( n_components=2, verbose=1, perplexity=40, n_iter=10000 )\n",
    "tsne_results = tsne.fit_transform( similarity )"
   ]
  },
  {
   "cell_type": "code",
   "execution_count": 65,
   "metadata": {},
   "outputs": [
    {
     "name": "stdout",
     "output_type": "stream",
     "text": [
      "[t-SNE] Computing 10 nearest neighbors...\n",
      "[t-SNE] Indexed 11 samples in 0.000s...\n",
      "[t-SNE] Computed neighbors for 11 samples in 0.000s...\n",
      "[t-SNE] Computed conditional probabilities for sample 11 / 11\n",
      "[t-SNE] Mean sigma: 1125899906842624.000000\n",
      "[t-SNE] KL divergence after 250 iterations with early exaggeration: 60.550076\n",
      "[t-SNE] KL divergence after 1300 iterations: 0.268363\n"
     ]
    },
    {
     "data": {
      "image/png": "[encoded data removed]",
      "text/plain": [
       "<Figure size 720x576 with 1 Axes>"
      ]
     },
     "metadata": {
      "needs_background": "light"
     },
     "output_type": "display_data"
    }
   ],
   "source": [
    "# Time to visualize\n",
    "tsne = TSNE( n_components=2, verbose=1, perplexity=40, n_iter=10000 )\n",
    "tsne_results = tsne.fit_transform( similarity )\n",
    "X = tsne_results[:,0]\n",
    "Y = tsne_results[:,1]\n",
    "fig,ax = plt.subplots(1,1,figsize=(10,8))\n",
    "ax.scatter(X,Y)\n",
    "for i,user in enumerate(indian_news):\n",
    "    ax.annotate(user, (X[i],Y[i]))  #this is not very easy to see..."
   ]
  },
  {
   "cell_type": "markdown",
   "metadata": {},
   "source": [
    "#### Well, nothing to see here...\n",
    "### Let's check what are top words that define these twitter accounts!"
   ]
  },
  {
   "cell_type": "code",
   "execution_count": 66,
   "metadata": {},
   "outputs": [],
   "source": [
    "#all_users is sorted!\n",
    "tfidf = tfidf_results.todense()\n",
    "words_to_see = 15\n",
    "user_to_words = {}\n",
    "for i in range(len(indian_news)):\n",
    "    user = indian_news[i]\n",
    "    tfidf_value = [ [ tfidf[i][0,j], j ] for j in range(tfidf[i].shape[1]) ]\n",
    "    tfidf_value.sort(reverse=True)\n",
    "    mostImportantXWords = [ wd[1] for wd in tfidf_value[0:words_to_see] ]\n",
    "    user_to_words[ user ] = mostImportantXWords"
   ]
  },
  {
   "cell_type": "code",
   "execution_count": 67,
   "metadata": {},
   "outputs": [
    {
     "name": "stdout",
     "output_type": "stream",
     "text": [
      "timesofindia \t ['covid', 'nnread', 'case', 'lockdown', 'coronavirus', 'india', 'positive', 'state', 'death', 'new', 'say', 'today', 'amp', 'health', 'total']\n",
      "republic \t ['covid', 'lockdown', 'amid', 'coronavirus', 'wwe', 'say', 'watch', 'share', 'india', 'share view', 'nba', 'ipl', 'tune', 'amid covid', 'arnab']\n",
      "thewire_in \t ['india', 'government', 'said', 'delhi', 'coronavirus', 'people', 'covid', 'police', 'court', 'case', 'svaradarajan', 'minister', 'state', 'day', 'indian']\n",
      "ndtvfeed \t ['latest update', 'coronavirusoutbreak', 'update', 'latest', 'covid', 'lockdown', 'coronavirus', 'amid', 'india', 'delhi', 'case', 'pic', 'centre', 'minister', 'say']\n",
      "ZeeNewsEnglish \t ['coronavirus', 'covid', 'coronavirus covid', 'live', 'case', 'zee', 'india', 'zee news', 'lockdown', 'amid', 'pic', 'say', 'death', 'news', 'new']\n",
      "PTI_News \t ['covid', 'coronavirus', 'case', 'official', 'health', 'lockdown', 'rise', 'govt', 'state', 'test', 'positive', 'people', 'delhi', 'ministry', 'death']\n",
      "TimesNow \t ['breaking', 'amp', 'covid', 'now', 'india', 'lockdown', 'time', 'case', 'live', 'tell', 'rahulgandhi', 'exclusive', 'report', 'navika', 'time now']\n",
      "IndianExpress \t ['indian express', 'newspaper', 'indian', 'express', 'know', 'read', 'daily', 'getting', 'epaper', 'covid', 'case', 'lockdown', 'coronavirus', 'said', 'state']\n",
      "TOIIndiaNews \t ['covid', 'coronavirus', 'lockdown', 'india', 'case', 'govt', 'modi', 'state', 'say', 'centre', 'test', 'indian', 'day', 'people', 'health']\n",
      "ThePrintIndia \t ['covid', 'india', 'coronavirus', 'lockdown', 'modi', 'amp', 'case', 'govt', 'say', 'indian', 'delhi', 'new', 'fight', 'test', 'death']\n",
      "the_hindu \t ['covid', 'case', 'just', 'said', 'lockdown', 'new', 'coronavirus', 'india', 'government', 'minister', 'state', 'death', 'positive', 'people', 'number']\n"
     ]
    }
   ],
   "source": [
    "for user in indian_news:\n",
    "    word_indices = user_to_words[user]\n",
    "    words_ = [ words[i] for i in word_indices ]\n",
    "    print(user,'\\t',words_)"
   ]
  },
  {
   "cell_type": "markdown",
   "metadata": {},
   "source": [
    "### OK!! It's largely related to coronavirus!! We need to get data past the 3000 tweets that twitter allows!!<br>Need to use something else to scrape the data from twitter.....will selenium work here? Will I need to write my own script to scrape data? Maybe there is some existing tool for it..."
   ]
  },
  {
   "cell_type": "code",
   "execution_count": null,
   "metadata": {},
   "outputs": [],
   "source": []
  }
 ],
 "metadata": {
  "kernelspec": {
   "display_name": "Python 3",
   "language": "python",
   "name": "python3"
  },
  "language_info": {
   "codemirror_mode": {
    "name": "ipython",
    "version": 3
   },
   "file_extension": ".py",
   "mimetype": "text/x-python",
   "name": "python",
   "nbconvert_exporter": "python",
   "pygments_lexer": "ipython3",
   "version": "3.7.3"
  }
 },
 "nbformat": 4,
 "nbformat_minor": 2
}
