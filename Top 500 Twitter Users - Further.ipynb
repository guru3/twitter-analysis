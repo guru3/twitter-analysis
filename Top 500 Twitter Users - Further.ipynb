{
 "cells": [
  {
   "cell_type": "code",
   "execution_count": 1,
   "metadata": {},
   "outputs": [
    {
     "data": {
      "text/html": [
       "<style>.container { width:100% !important; }</style>"
      ],
      "text/plain": [
       "<IPython.core.display.HTML object>"
      ]
     },
     "metadata": {},
     "output_type": "display_data"
    }
   ],
   "source": [
    "import csv\n",
    "import os\n",
    "import numpy as np\n",
    "import pickle\n",
    "import seaborn as sns\n",
    "import datetime as d\n",
    "import pandas as pd\n",
    "from sklearn.feature_extraction.text import TfidfVectorizer\n",
    "from sklearn.manifold import TSNE\n",
    "import matplotlib.pyplot as plt\n",
    "%matplotlib inline\n",
    "from IPython.core.display import display, HTML\n",
    "display(HTML(\"<style>.container { width:100% !important; }</style>\"))"
   ]
  },
  {
   "cell_type": "code",
   "execution_count": 2,
   "metadata": {},
   "outputs": [],
   "source": [
    "BASE_PATH = './tweets/'"
   ]
  },
  {
   "cell_type": "code",
   "execution_count": 3,
   "metadata": {},
   "outputs": [],
   "source": [
    "def getTop500TwitterUsers():\n",
    "    users500 = 'top500accounts.txt'\n",
    "    names = [];\n",
    "    with open(users500, 'r') as f:\n",
    "        for line in f.readlines():\n",
    "            names.append( line[:-1] )\n",
    "    return names\n",
    "\n",
    "def getTweetsOfUser( user ):\n",
    "    global BASE_PATH\n",
    "    user_file = os.path.join( BASE_PATH, user + '_tweets.csv' )\n",
    "    try:\n",
    "        csv_reader = csv.reader( open( user_file, 'r' ) )\n",
    "        next(csv_reader, None)  # skip the headers\n",
    "        PARSE_TIME_FORMAT = '%Y-%m-%d %H:%M:%S'\n",
    "        first_row = last_row = None\n",
    "        allT = []\n",
    "        for row in csv_reader:\n",
    "            allT.append( {'text':row[2], 'retweet_count':int(row[5]), 'favorite_count':int(row[6]) } )\n",
    "            if first_row == None:\n",
    "                first_row = row\n",
    "            last_row = row\n",
    "        max_time = d.datetime.strptime( first_row[1], PARSE_TIME_FORMAT )\n",
    "        min_time = d.datetime.strptime( last_row[1] , PARSE_TIME_FORMAT )\n",
    "        time_diff = (max_time - min_time).days\n",
    "        total_tweets = len(allT)\n",
    "        return [allT, total_tweets/time_diff]\n",
    "    except:\n",
    "        return []\n",
    "\n",
    "def getTop500UserTweets():\n",
    "    allTweets = {}\n",
    "    userFrequency = {}\n",
    "    top500PlusUsers = getTop500TwitterUsers()\n",
    "    userNumber = 0;\n",
    "    for user in top500PlusUsers:\n",
    "        tweetInfo = getTweetsOfUser( user )\n",
    "        if len(tweetInfo) == 0:\n",
    "            continue\n",
    "        allTweets[user] = tweetInfo[0];\n",
    "        userFrequency[user] = tweetInfo[1]\n",
    "        userNumber = userNumber + 1;\n",
    "        if userNumber == 500:\n",
    "            return [ allTweets, userFrequency ]\n",
    "    return [ allTweets, userFrequency ]\n",
    "\n",
    "def get_user_map():\n",
    "    user_details = pd.read_csv( open('./top500accounts_details.csv', 'r') ).set_index('Name')\n",
    "    with open('./twitter_user_tnse_result.pickle', 'rb') as f:\n",
    "        raw_df = pd.DataFrame(pickle.load(f)).transpose()\n",
    "    raw_df.columns = [\"x\", \"y\", \"Name\"]\n",
    "    raw_df = raw_df.set_index('Name')\n",
    "    return raw_df.join(user_details,on='Name',how='left')"
   ]
  },
  {
   "cell_type": "code",
   "execution_count": 4,
   "metadata": {},
   "outputs": [],
   "source": [
    "[ allTweets, userFrequency ] = getTop500UserTweets()\n",
    "userDetails = get_user_map()\n",
    "all_users = [ i for i in userDetails.index if i in allTweets.keys() ]"
   ]
  },
  {
   "cell_type": "markdown",
   "metadata": {},
   "source": [
    "### <font color='red'>Let's ask some questions now!</font>"
   ]
  },
  {
   "cell_type": "markdown",
   "metadata": {},
   "source": [
    "### <font color='blue'>1. Do top users tweet more often?</font>"
   ]
  },
  {
   "cell_type": "code",
   "execution_count": 5,
   "metadata": {},
   "outputs": [
    {
     "name": "stdout",
     "output_type": "stream",
     "text": [
      "Users with less than 1 tweets per day : 109\n",
      "Users with atleast 1 tweet per day : 373\n",
      "Users with more than 10 tweets per day : 142\n"
     ]
    },
    {
     "data": {
      "image/png": "[encoded data removed]",
      "text/plain": [
       "<Figure size 432x288 with 1 Axes>"
      ]
     },
     "metadata": {
      "needs_background": "light"
     },
     "output_type": "display_data"
    }
   ],
   "source": [
    "tweet_frequency_value = list(userFrequency.values())\n",
    "print('Users with less than 1 tweets per day : %d' % ( len( [ x for x in tweet_frequency_value if x < 1 ])) )\n",
    "print('Users with atleast 1 tweet per day : %d'% ( len( [ x for x in tweet_frequency_value if x >= 1 ])) )\n",
    "print('Users with more than 10 tweets per day : %d' % ( len( [ x for x in tweet_frequency_value if x > 5 ])) )\n",
    "sns.distplot(list(userFrequency.values()), bins=25, kde=False);"
   ]
  },
  {
   "cell_type": "code",
   "execution_count": 6,
   "metadata": {},
   "outputs": [
    {
     "name": "stdout",
     "output_type": "stream",
     "text": [
      "Percentage of users with more than 100 tweets per day that are \"news\" is 0.91\n"
     ]
    }
   ],
   "source": [
    "#### One would expect most users with more than 100 tweets per day to be news channels! Let's check that out\n",
    "users_with_lot_of_tweets = [ x for x in userFrequency.keys() if userFrequency[x] >= 100 ]\n",
    "categories = [ (userDetails.loc[user])['category'] for user in users_with_lot_of_tweets ]\n",
    "print('Percentage of users with more than 100 tweets per day that are \"news\" is %3.2f' % ( len([x for x in categories if x=='news'])/len(categories)) )"
   ]
  },
  {
   "cell_type": "markdown",
   "metadata": {},
   "source": [
    "### <font color='orange'>We see that most of the users ( ~78% ) tweet atleast once per day! We also see that most frequent tweets are the news channels, that is expected! News is the information that gets generated on its own!</font>"
   ]
  },
  {
   "cell_type": "markdown",
   "metadata": {},
   "source": [
    "### <font color='blue'>2. Do top users have more retweets?</font>"
   ]
  },
  {
   "cell_type": "code",
   "execution_count": 7,
   "metadata": {},
   "outputs": [
    {
     "name": "stdout",
     "output_type": "stream",
     "text": [
      "Users with atleast 20000 retweets per post : 13\n",
      "Users with atleast 1000 retweets per post : 206\n",
      "Users with atleast 100 retweets per post : 416\n"
     ]
    },
    {
     "data": {
      "image/png": "[encoded data removed]",
      "text/plain": [
       "<Figure size 432x288 with 1 Axes>"
      ]
     },
     "metadata": {
      "needs_background": "light"
     },
     "output_type": "display_data"
    }
   ],
   "source": [
    "average_user_retweets = [ np.mean( [ x['retweet_count'] for x in allTweets[user] ] ) for user in all_users ]\n",
    "print('Users with atleast 20000 retweets per post : %d' % ( len( [ x for x in average_user_retweets if x > 20000 ])) )\n",
    "print('Users with atleast 1000 retweets per post : %d' % ( len( [ x for x in average_user_retweets if x > 1000 ])) )\n",
    "print('Users with atleast 100 retweets per post : %d'% ( len( [ x for x in average_user_retweets if x > 100 ])) )\n",
    "sns.distplot( [ np.log10(x) for x in average_user_retweets ], bins=25, kde=False);\n",
    "plt.xlabel('log10(retweets)')\n",
    "_ =plt.ylabel('#accounts')"
   ]
  },
  {
   "cell_type": "code",
   "execution_count": 8,
   "metadata": {},
   "outputs": [
    {
     "name": "stdout",
     "output_type": "stream",
     "text": [
      "Percentage of users with more than 20000 retweets per post that are into \"music\" is 0.85\n",
      "Percentage of users with more than 20000 retweets per post that are \"american\" is 0.23\n",
      "Percentage of users with more than 20000 retweets per post that are \"england\" is 0.31\n"
     ]
    }
   ],
   "source": [
    "users_with_lot_of_retweets= []\n",
    "for user in all_users:\n",
    "    if ( np.mean( [ x['retweet_count'] for x in allTweets[user] ] ) > 20000 ):\n",
    "        users_with_lot_of_retweets.append(user)\n",
    "categories = [ (userDetails.loc[user])['category'] for user in users_with_lot_of_retweets ]\n",
    "print('Percentage of users with more than 20000 retweets per post that are into \"music\" is %3.2f' % ( len([x for x in categories if x=='music'])/len(categories)) )\n",
    "region = [ (userDetails.loc[user])['region'] for user in users_with_lot_of_retweets ]\n",
    "print('Percentage of users with more than 20000 retweets per post that are \"american\" is %3.2f' % ( len([x for x in region if x=='america'])/len(region)) )\n",
    "print('Percentage of users with more than 20000 retweets per post that are \"england\" is %3.2f' % ( len([x for x in region if x=='england'])/len(region)) )"
   ]
  },
  {
   "cell_type": "markdown",
   "metadata": {},
   "source": [
    "### <font color='orange'>We see that most of top 500 twitter accounts have around ~800 retweets per post! Of the accounts with most of the retweets, as one would expect, most of them are musicians! The musicians are from america, england and other countries!</font>"
   ]
  },
  {
   "cell_type": "markdown",
   "metadata": {},
   "source": [
    "### <font color='blue'>3. Do top users have more favourites?</font>"
   ]
  },
  {
   "cell_type": "code",
   "execution_count": 9,
   "metadata": {},
   "outputs": [
    {
     "name": "stdout",
     "output_type": "stream",
     "text": [
      "Users with atleast 50000 favorites per post : 12\n",
      "Users with atleast 10000 favorites per post : 84\n",
      "Users with atleast 1000 favorites per post : 321\n"
     ]
    },
    {
     "data": {
      "image/png": "[encoded data removed]",
      "text/plain": [
       "<Figure size 432x288 with 1 Axes>"
      ]
     },
     "metadata": {
      "needs_background": "light"
     },
     "output_type": "display_data"
    }
   ],
   "source": [
    "average_user_favourites = [ np.mean( [ x['favorite_count'] for x in allTweets[user] ] ) for user in all_users ]\n",
    "print('Users with atleast 50000 favorites per post : %d' % ( len( [ x for x in average_user_favourites if x > 50000 ])) )\n",
    "print('Users with atleast 10000 favorites per post : %d' % ( len( [ x for x in average_user_favourites if x > 10000 ])) )\n",
    "print('Users with atleast 1000 favorites per post : %d'% ( len( [ x for x in average_user_favourites if x > 1000 ])) )\n",
    "a = [ np.log10(x) for x in average_user_favourites if x > 10 ] #to avoid negatives\n",
    "sns.distplot( a, bins=25, kde=False);\n",
    "plt.xlabel('log10(favourite count)')\n",
    "_ =plt.ylabel('#accounts')"
   ]
  },
  {
   "cell_type": "code",
   "execution_count": 10,
   "metadata": {},
   "outputs": [
    {
     "name": "stdout",
     "output_type": "stream",
     "text": [
      "Percentage of users with more than 50000 favorites per post that are into \"music\" is 0.67\n",
      "Percentage of users with more than 50000 favorites per post that are \"american\" is 0.50\n",
      "Percentage of users with more than 50000 favorites per post that are \"england\" is 0.25\n"
     ]
    }
   ],
   "source": [
    "users_with_lot_of_favorites= []\n",
    "for user in all_users:\n",
    "    if ( np.mean( [ x['favorite_count'] for x in allTweets[user] ] ) > 50000 ):\n",
    "        users_with_lot_of_favorites.append(user)\n",
    "categories = [ (userDetails.loc[user])['category'] for user in users_with_lot_of_favorites ]\n",
    "print('Percentage of users with more than 50000 favorites per post that are into \"music\" is %3.2f' % ( len([x for x in categories if x=='music'])/len(categories)) )\n",
    "region = [ (userDetails.loc[user])['region'] for user in users_with_lot_of_favorites ]\n",
    "print('Percentage of users with more than 50000 favorites per post that are \"american\" is %3.2f' % ( len([x for x in region if x=='america'])/len(region)) )\n",
    "print('Percentage of users with more than 50000 favorites per post that are \"england\" is %3.2f' % ( len([x for x in region if x=='england'])/len(region)) )"
   ]
  },
  {
   "cell_type": "markdown",
   "metadata": {},
   "source": [
    "### <font color='orange'>We see that most of top 500 twitter accounts have around ~1000 favorites per post! We would expect similar distribution as the ones with retweet count! Of the accounts with most of the favorites, most of them are musicians! About 75% of these musicians are from america and england, more than what we saw in retweets</font>"
   ]
  },
  {
   "cell_type": "markdown",
   "metadata": {},
   "source": [
    "### <font color='blue'>4. Where do top 20 accounts lie in this top 500 accounts?</font>"
   ]
  },
  {
   "cell_type": "code",
   "execution_count": 11,
   "metadata": {},
   "outputs": [
    {
     "data": {
      "image/png": "[encoded data removed]",
      "text/plain": [
       "<Figure size 1008x864 with 1 Axes>"
      ]
     },
     "metadata": {
      "needs_background": "light"
     },
     "output_type": "display_data"
    }
   ],
   "source": [
    "uD = userDetails.reset_index()\n",
    "uD['isTop20'] = [ ( index< 20 ) for index in uD.index ]\n",
    "\n",
    "def plot( dataset, x_name, y_name, column, colors='tab10' ):\n",
    "    plt.figure(figsize=(14,12))\n",
    "    dataset['label'] = dataset[column]\n",
    "    color_palette = sns.color_palette(colors, n_colors=1)\n",
    "    g = sns.scatterplot( x= x_name, y= y_name, hue=column, palette=color_palette, s=10, data= dataset[ dataset['isTop20'] == False ])\n",
    "    \n",
    "    dataset2 = dataset[dataset['isTop20'] == True]\n",
    "    ax = sns.scatterplot( x= x_name, y= y_name, hue=column, palette=sns.color_palette('hls',n_colors=1), s=70, data= dataset2)\n",
    "    for i in range(20):\n",
    "        ax.text(dataset.iloc[i]['x']+.02, dataset.iloc[i]['y'], dataset.iloc[i]['Name'])\n",
    "    g.legend().remove()\n",
    "\n",
    "plot(uD, 'x', 'y', 'isTop20' )"
   ]
  },
  {
   "cell_type": "markdown",
   "metadata": {},
   "source": [
    "### <font color='orange'> There isn't a cluster or congolomerate of twitter accounts that we might see in these top 20 accounts! We see total 3 policial leaders : 2 american presidents and an indian prime minister. Rest of those are mostly musicians! Good to see twitter's account in top 20 twiter accounts!</font>"
   ]
  },
  {
   "cell_type": "markdown",
   "metadata": {},
   "source": [
    "### <font color='blue'>5. Are there some set of words that top 10 accounts use which separate them out from other accounts?</font>"
   ]
  },
  {
   "cell_type": "code",
   "execution_count": 12,
   "metadata": {},
   "outputs": [],
   "source": [
    "tweets_corpus = [] #we add it in order of users we have in variable twitter_users\n",
    "for user in all_users:\n",
    "    all_user_tweets = [ tweet['text'] for tweet in allTweets[user] ]\n",
    "    tweet_corpus = ' '.join(all_user_tweets)\n",
    "    tweets_corpus.append( tweet_corpus )\n",
    "vectorizer = TfidfVectorizer(min_df=2, ngram_range=(1,2), norm='l2', smooth_idf=True, sublinear_tf=False, use_idf=True)"
   ]
  },
  {
   "cell_type": "code",
   "execution_count": 13,
   "metadata": {},
   "outputs": [],
   "source": [
    "X = vectorizer.fit_transform(tweets_corpus)\n",
    "words = vectorizer.get_feature_names()\n",
    "tfidf = X.todense()"
   ]
  },
  {
   "cell_type": "markdown",
   "metadata": {},
   "source": [
    "#### Now we got tf-idf frequency of each word for each document! and we know that it *is a statistical measure used to evaluate how important a word is to a document in a collection or corpus*"
   ]
  },
  {
   "cell_type": "code",
   "execution_count": 14,
   "metadata": {},
   "outputs": [],
   "source": [
    "#all_users is sorted!\n",
    "words_to_see = 10\n",
    "user_to_words = {}\n",
    "for i in range(10):\n",
    "    user = all_users[i]\n",
    "    tfidf_value = [ [ tfidf[i][0,j], j ] for j in range(tfidf[i].shape[1]) ]\n",
    "    tfidf_value.sort(reverse=True)\n",
    "    mostImportantXWords = [ wd[1] for wd in tfidf_value[0:words_to_see] ]\n",
    "    user_to_words[ user ] = mostImportantXWords"
   ]
  },
  {
   "cell_type": "code",
   "execution_count": 15,
   "metadata": {},
   "outputs": [
    {
     "name": "stdout",
     "output_type": "stream",
     "text": [
      "BarackObama \t ['president obama', 'obama', 'president', 'actonclimate', 'ofa', 'whitehouse', 'doyourjob', 'senate leader', 'live president', 'senate']\n",
      "justinbieber \t ['justinbieber', 'purposetour', 'justinbiebers', 'whatdoyoumean', 'purpose', 'bieber', 'justin bieber', 'beliebers', 'justin', 'bkstg']\n",
      "katyperry \t ['americanidol', 'kpwww', 'lukebryanonline', 'katyperry', 'lionelrichie', 'love', 'just', 'day', 'neverreallyover', 'witness']\n",
      "rihanna \t ['fentybeauty', 'rihanna', 'savagexfenty', 'fentyxpuma', 'navy', 'fentyofficial', 'thank', 'new', 'diamondball', 'stunna']\n",
      "taylorswift13 \t ['reputation', 'taylornation', 'taylorswift', 'taylor swift', 'brendonurie', 'taylor', 'lover', 'swift', 'taylorswifts', 'thank']\n",
      "Cristiano \t ['cristiano', 'madrid', 'hala madrid', 'hala', 'vivaronaldo', 'mercurial', 'nikefootball', 'new', 'game', 'great']\n",
      "ladygaga \t ['gaga', 'lady gaga', 'joanne', 'btwfoundation', 'ladygaga', 'lady', 'amp', 'love', 'astarisborn', 'thank']\n",
      "TheEllenShow \t ['gameofgames', 'andylassner', 'ellensgreatestnight', 'happy', 'thekalenallen', 'birthday', 'happy birthday', 'love', 'new', 'tonight']\n",
      "realDonaldTrump \t ['realdonaldtrump', 'democrat', 'president', 'whitehouse', 'impeachment', 'trump', 'president realdonaldtrump', 'great', 'senate', 'coronavirus']\n",
      "ArianaGrande \t ['needyjoseph', 'njomza', 'love', 'alfredoflores', 'diornasa', 'miss', 'tbhits', 'sweetenersiut', 'mattbennett', 'shokidding']\n"
     ]
    }
   ],
   "source": [
    "for user in all_users[0:10]:\n",
    "    word_indices = user_to_words[user]\n",
    "    words_ = [ words[i] for i in word_indices ]\n",
    "    print(user,'\\t',words_)"
   ]
  },
  {
   "cell_type": "markdown",
   "metadata": {},
   "source": [
    "### <font color='orange'>For most of the users, the words most important for their tweets is their own names!!!! So people need to keep talking about themselves! Mostly accounts that don't and are still in top 500 may be the news channels!</font>"
   ]
  },
  {
   "cell_type": "markdown",
   "metadata": {},
   "source": [
    "### <font color='blue'>6. What are most important words for bollywood actors?</font>"
   ]
  },
  {
   "cell_type": "code",
   "execution_count": 17,
   "metadata": {},
   "outputs": [],
   "source": [
    "u = userDetails[userDetails['region'] == 'india']\n",
    "top10_indian_actors = list(u[u['category']=='actor'].index)[0:10]\n",
    "\n",
    "words_to_see = 10\n",
    "user_to_words_indian_actors = {}\n",
    "for i in range(len(all_users)):\n",
    "    user = all_users[i]\n",
    "    if not(user in top10_indian_actors):\n",
    "        continue\n",
    "    tfidf_value = [ [ tfidf[i][0,j], j ] for j in range(tfidf[i].shape[1]) ]\n",
    "    tfidf_value.sort(reverse=True)\n",
    "    mostImportantXWords = [ wd[1] for wd in tfidf_value[0:words_to_see] ]\n",
    "    user_to_words_indian_actors[ user ] = [ words[i] for i in mostImportantXWords ]"
   ]
  },
  {
   "cell_type": "code",
   "execution_count": 18,
   "metadata": {},
   "outputs": [
    {
     "name": "stdout",
     "output_type": "stream",
     "text": [
      "SrBachchan \t ['janijasmine', 'ashokmistry', 'prashantkawadia', 'swetaloveab', 'vikasm', 'sanjaypatodiya', 'mosessapir', 'srbachchan', 'manishk', 'badla']\n",
      "BeingSalmanKhan \t ['uniform serve', 'wear uniform', 'remember need', 'need wear', 'serve country', 'republic day', 'day remember', 'country jai', 'uniform', 'republic']\n",
      "iamsrk \t ['thank', 'love', 'raees', 'amp', 'hai', 'thanks', 'toh', 'redchilliesent', 'sejal', 'film']\n",
      "akshaykumar \t ['pagla', 'thank', 'support here', 'aapka', 'here', 'padman', 'nahi', 'thank love', 'gaya aapka', 'mad think']\n",
      "iHrithik \t ['thank', 'kaabil', 'hrxbrand', 'love', 'thanks', 'hrx', 'rakeshroshann', 'yamigautam', 'ihrithik', 'guy']\n",
      "deepikapadukone \t ['deepikapadukone', 'piku', 'tlllfoundation', 'deepika', 'findingfanny', 'tamasha', 'ramleela', 'padukone', 'shoojitsircar', 'deepika padukone']\n",
      "priyankachopra \t ['priyankachopra', 'quantico', 'thank', 'love', 'theskyispink', 'teampriyanka', 'happy', 'xoxo', 'lol', 'purplepebblepic']\n",
      "aamir_khan \t ['mumkinhai', 'hey guy', 'love', 'guy', 'hey', 'nlove', 'thank', 'hai', 'wishing', 'smj']\n",
      "AnushkaSharma \t ['anushkasharma', 'phillauri', 'thank', 'bombayvelvet', 'amp', 'officialcsfilms', 'foxstarhindi', 'diljitdosanjh', 'love', 'hai']\n",
      "aliaa08 \t ['aliaa', 'karanjohar', 'thank', 'shahidkapoor', 'varundvn', 'sdharthm', 'love', 'shaandaar', 'kapoorandsons', 'sonirazdan']\n"
     ]
    }
   ],
   "source": [
    "for user in top10_indian_actors:\n",
    "    print(user,'\\t',user_to_words_indian_actors[user])"
   ]
  },
  {
   "cell_type": "markdown",
   "metadata": {},
   "source": [
    "### <font color='orange'>This is very interesting!! SrBachchan has mostly names of other people! BeingSalmanKhan's most important words are related to uniform and country, whereas as iamsrk's are thanks and love! Interesting that thanks and love make themselves important words in his tweets! There are many cases of words being movies of those actors or co-starts that worked with them in movies!</font>"
   ]
  },
  {
   "cell_type": "markdown",
   "metadata": {},
   "source": [
    "### <font color='blue'>7. What are most important words for Indian politicians?</font>"
   ]
  },
  {
   "cell_type": "code",
   "execution_count": 19,
   "metadata": {},
   "outputs": [],
   "source": [
    "u = userDetails[userDetails['region'] == 'india']\n",
    "top10_indian_politicians = list(u[u['category']=='politics'].index)[0:5]\n",
    "\n",
    "words_to_see = 10\n",
    "user_to_words_indian_politicians = {}\n",
    "for i in range(len(all_users)):\n",
    "    user = all_users[i]\n",
    "    if not(user in top10_indian_politicians):\n",
    "        continue\n",
    "    tfidf_value = [ [ tfidf[i][0,j], j ] for j in range(tfidf[i].shape[1]) ]\n",
    "    tfidf_value.sort(reverse=True)\n",
    "    mostImportantXWords = [ wd[1] for wd in tfidf_value[0:words_to_see] ]\n",
    "    user_to_words_indian_politicians[ user ] = [ words[i] for i in mostImportantXWords ]"
   ]
  },
  {
   "cell_type": "code",
   "execution_count": 20,
   "metadata": {},
   "outputs": [
    {
     "name": "stdout",
     "output_type": "stream",
     "text": [
      "narendramodi \t ['india', 'shri', 'thank', 'mannkibaat', 'greeting', 'bjp', 'people', 'president', 'watch', 'yoga']\n",
      "PMOIndia \t ['narendramodi', 'india', 'mannkibaat', 'minister', 'shri', 'prime minister', 'called narendramodi', 'met narendramodi', 'prime', 'nnnvia']\n",
      "AmitShah \t ['bjpindia', 'shri', 'shri amitshah', 'amitshah', 'narendramodi', 'public meeting', 'amitshahoffice', 'bjpindia live', 'live shri', 'amitshah address']\n",
      "ArvindKejriwal \t ['delhi', 'arvindkejriwal', 'aamaadmiparty', 'msisodia', 'govt', 'aap', 'bjp', 'delhi govt', 'atishiaap', 'pankajjainclick']\n",
      "rajnathsingh \t ['shri', 'india', 'narendramodi', 'defenceminindia', 'defence', 'minister', 'today', 'greeting', 'new delhi', 'shall']\n"
     ]
    }
   ],
   "source": [
    "for user in top10_indian_politicians:\n",
    "    print(user,'\\t',user_to_words_indian_politicians[user])"
   ]
  },
  {
   "cell_type": "markdown",
   "metadata": {},
   "source": [
    "### <font color='orange'>Most of the important words about politicians are about their names!</font>"
   ]
  },
  {
   "cell_type": "markdown",
   "metadata": {},
   "source": [
    "### <font color='blue'>8. What are most important words for Top 5 musicians?</font>"
   ]
  },
  {
   "cell_type": "code",
   "execution_count": 21,
   "metadata": {},
   "outputs": [],
   "source": [
    "top5_musicians = list((userDetails[userDetails['category'] == 'music']).index)[0:5]\n",
    "\n",
    "words_to_see = 10\n",
    "user_to_words_musicians = {}\n",
    "for i in range(len(all_users)):\n",
    "    user = all_users[i]\n",
    "    if not(user in top5_musicians):\n",
    "        continue\n",
    "    tfidf_value = [ [ tfidf[i][0,j], j ] for j in range(tfidf[i].shape[1]) ]\n",
    "    tfidf_value.sort(reverse=True)\n",
    "    mostImportantXWords = [ wd[1] for wd in tfidf_value[0:words_to_see] ]\n",
    "    user_to_words_musicians[ user ] = [ words[i] for i in mostImportantXWords ]"
   ]
  },
  {
   "cell_type": "code",
   "execution_count": 22,
   "metadata": {},
   "outputs": [
    {
     "name": "stdout",
     "output_type": "stream",
     "text": [
      "justinbieber \t ['justinbieber', 'purposetour', 'justinbiebers', 'whatdoyoumean', 'purpose', 'bieber', 'justin bieber', 'beliebers', 'justin', 'bkstg']\n",
      "katyperry \t ['americanidol', 'kpwww', 'lukebryanonline', 'katyperry', 'lionelrichie', 'love', 'just', 'day', 'neverreallyover', 'witness']\n",
      "rihanna \t ['fentybeauty', 'rihanna', 'savagexfenty', 'fentyxpuma', 'navy', 'fentyofficial', 'thank', 'new', 'diamondball', 'stunna']\n",
      "taylorswift13 \t ['reputation', 'taylornation', 'taylorswift', 'taylor swift', 'brendonurie', 'taylor', 'lover', 'swift', 'taylorswifts', 'thank']\n",
      "ladygaga \t ['gaga', 'lady gaga', 'joanne', 'btwfoundation', 'ladygaga', 'lady', 'amp', 'love', 'astarisborn', 'thank']\n"
     ]
    }
   ],
   "source": [
    "for user in top5_musicians:\n",
    "    print(user,'\\t',user_to_words_musicians[user])"
   ]
  },
  {
   "cell_type": "markdown",
   "metadata": {},
   "source": [
    "### <font color='orange'>Nothing interesting! Similar to what we saw for top 10 twitter accounts</font>"
   ]
  },
  {
   "cell_type": "markdown",
   "metadata": {},
   "source": [
    "### <font color='blue'>9. What are most important words for Top 5 news accounts?</font>"
   ]
  },
  {
   "cell_type": "code",
   "execution_count": 23,
   "metadata": {},
   "outputs": [],
   "source": [
    "top5_news = list((userDetails[userDetails['category'] == 'news']).index)[0:5]\n",
    "\n",
    "words_to_see = 10\n",
    "user_to_words_new = {}\n",
    "for i in range(len(all_users)):\n",
    "    user = all_users[i]\n",
    "    if not(user in top5_news):\n",
    "        continue\n",
    "    tfidf_value = [ [ tfidf[i][0,j], j ] for j in range(tfidf[i].shape[1]) ]\n",
    "    tfidf_value.sort(reverse=True)\n",
    "    mostImportantXWords = [ wd[1] for wd in tfidf_value[0:words_to_see] ]\n",
    "    user_to_words_new[ user ] = [ words[i] for i in mostImportantXWords ]"
   ]
  },
  {
   "cell_type": "code",
   "execution_count": 25,
   "metadata": {},
   "outputs": [
    {
     "name": "stdout",
     "output_type": "stream",
     "text": [
      "cnnbrk \t ['cnnpolitics', 'trump', 'president trump', 'president', 'coronavirus', 'say', 'impeachment', 'cnnbusiness', 'new', 'police']\n",
      "CNN \t ['coronavirus', 'gov', 'president trump', 'trump', 'president', 'new', 'state', 'pandemic', 'coronavirus pandemic', 'say']\n",
      "nytimes \t ['coronavirus', 'pandemic', 'new', 'briefing here', 'trump', 'coronavirus pandemic', 'president trump', 'new york', 'york', 'people']\n",
      "BBCBreaking \t ['bbcsport', 'say', 'police', 'brexit', 'trump', 'president', 'theresa', 'people', 'mp', 'died']\n",
      "BBCWorld \t ['coronavirus', 'bbcnews', 'bbcsport', 'bbcbreaking', 'bbcworldservice', 'lockdown', 'bbcnorthamerica', 'trump', 'outbreak', 'bbcafrica']\n"
     ]
    }
   ],
   "source": [
    "for user in top5_news:\n",
    "    print(user,'\\t',user_to_words_new[user])"
   ]
  },
  {
   "cell_type": "markdown",
   "metadata": {},
   "source": [
    "### <font color='orange'>Most of them are talking about coronavirus and the president trump! Interesting to see word 'new' in there too! BBCWorld seems to be promoting it's own other BBC channels</font>"
   ]
  },
  {
   "cell_type": "markdown",
   "metadata": {},
   "source": [
    "### <font color='blue'>10. What are most important words for Top 5 INDIAN news accounts?</font>"
   ]
  },
  {
   "cell_type": "code",
   "execution_count": 27,
   "metadata": {},
   "outputs": [],
   "source": [
    "uD = userDetails[userDetails['category'] == 'news']\n",
    "top5_indian_news = list((uD[uD['region'] == 'india']).index)[0:5]\n",
    "\n",
    "words_to_see = 10\n",
    "user_to_words_indian_news = {}\n",
    "for i in range(len(all_users)):\n",
    "    user = all_users[i]\n",
    "    if not(user in top5_indian_news):\n",
    "        continue\n",
    "    tfidf_value = [ [ tfidf[i][0,j], j ] for j in range(tfidf[i].shape[1]) ]\n",
    "    tfidf_value.sort(reverse=True)\n",
    "    mostImportantXWords = [ wd[1] for wd in tfidf_value[0:words_to_see] ]\n",
    "    user_to_words_indian_news[ user ] = [ words[i] for i in mostImportantXWords ]"
   ]
  },
  {
   "cell_type": "code",
   "execution_count": 28,
   "metadata": {},
   "outputs": [
    {
     "name": "stdout",
     "output_type": "stream",
     "text": [
      "timesofindia \t ['covid', 'toisports', 'nnread', 'lockdown', 'coronavirus', 'case', 'cautionyespanicno', 'india', 'coronavirusoutbreak', 'toiworld']\n",
      "ndtv \t ['gadget', 'coronavirus', 'coronaviruslockdown', 'covid', 'amid', 'lockdown', 'india', 'coronavirusoutbreak', 'sportsndtv', 'delhi']\n",
      "aajtak \t ['natvideo', 'lockdown', 'corona', 'coronavirus', 'nlockdown', 'ncoronavirus', 'delhi', 'mumbaitak', 'uttarpradesh', 'dangal']\n",
      "ABPNews \t ['coronavirus', 'lockdown', 'covid', 'abp', 'breakingnews', 'nnreport', 'coronavirusinindia', 'coronavirusoutbreak', 'nnwatch', 'india']\n",
      "TimesNow \t ['breaking', 'timesnowsports', 'covid', 'lockdown', 'amp', 'india', 'now', 'rahulgandhi', 'tell rahul', 'navika']\n"
     ]
    }
   ],
   "source": [
    "for user in top5_indian_news:\n",
    "    print(user,'\\t',user_to_words_indian_news[user])"
   ]
  },
  {
   "cell_type": "markdown",
   "metadata": {},
   "source": [
    "### <font color='orange'>Most of them are talking about coronavirus! Super interesting to see TimesNow talking about rahul gandhi!!!!</font>"
   ]
  },
  {
   "cell_type": "code",
   "execution_count": null,
   "metadata": {},
   "outputs": [],
   "source": []
  }
 ],
 "metadata": {
  "kernelspec": {
   "display_name": "Python 3",
   "language": "python",
   "name": "python3"
  },
  "language_info": {
   "codemirror_mode": {
    "name": "ipython",
    "version": 3
   },
   "file_extension": ".py",
   "mimetype": "text/x-python",
   "name": "python",
   "nbconvert_exporter": "python",
   "pygments_lexer": "ipython3",
   "version": "3.7.3"
  }
 },
 "nbformat": 4,
 "nbformat_minor": 2
}
